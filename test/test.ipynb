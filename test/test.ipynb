{
 "cells": [
  {
   "cell_type": "code",
   "execution_count": null,
   "metadata": {},
   "outputs": [],
   "source": [
    "import open3d as O3d"
   ]
  },
  {
   "cell_type": "markdown",
   "metadata": {},
   "source": [
    "加载并显示面obj模型"
   ]
  },
  {
   "cell_type": "code",
   "execution_count": 2,
   "metadata": {},
   "outputs": [
    {
     "name": "stdout",
     "output_type": "stream",
     "text": [
      "0 for simple mesh, 1 for complex mesh\n",
      "loading\n"
     ]
    }
   ],
   "source": [
    "def o3dmesh(path=''):\n",
    "    simple_mesh_path = '../3D-models/rm2020_simple.obj'\n",
    "    complex_mesh_path = '../3D-models/rm2022.obj'\n",
    "    if path != simple_mesh_path and path != complex_mesh_path:\n",
    "        print('invaild path')\n",
    "    else:\n",
    "        print('loading')\n",
    "        mesh = O3d.io.read_triangle_mesh(path)\n",
    "        mesh.compute_vertex_normals()\n",
    "        O3d.visualization.RenderOption.show_coordinate_frame = True\n",
    "        O3d.visualization.draw_geometries([mesh], window_name=\"mesh\",width=1280,height=720)\n",
    "\n",
    "def show3d():\n",
    "    print('0 for simple mesh, 1 for complex mesh')\n",
    "    mode = input()\n",
    "    if mode == '0':\n",
    "        o3dmesh('../3D-models/rm2020_simple.obj')\n",
    "    elif mode == '1':\n",
    "        o3dmesh('../3D-models/rm2022.obj')\n",
    "    else:\n",
    "        print('invaild input')\n",
    "\n",
    "show3d()"
   ]
  },
  {
   "cell_type": "code",
   "execution_count": 3,
   "metadata": {},
   "outputs": [],
   "source": [
    "def o3dpcd():\n",
    "    simple_pcd_path = '../3D-models/rm2020_simple.pcd'\n",
    "    complex_pcd_path = '../3D-models/rm2022.pcd'\n",
    "    o3d = O3d\n",
    "    pcd = o3d.io.read_point_cloud(complex_pcd_path)\n",
    "    o3d.visualization.draw_geometries([pcd], window_name=\"Open3D\",width=1280,height=720)\n",
    "o3dpcd()"
   ]
  },
  {
   "cell_type": "code",
   "execution_count": null,
   "metadata": {},
   "outputs": [],
   "source": [
    "def o3dpcd():\n",
    "    complex_pcd_path = '../3D-models/terra_pcd/cloudAB.pcd'\n",
    "    o3d = O3d\n",
    "    pcd = o3d.io.read_point_cloud(complex_pcd_path)\n",
    "    print(pcd.points)\n",
    "    o3d.visualization.draw_geometries([pcd], window_name=\"Open3D\",width=1280,height=720)\n",
    "o3dpcd()"
   ]
  },
  {
   "cell_type": "code",
   "execution_count": null,
   "metadata": {},
   "outputs": [],
   "source": []
  }
 ],
 "metadata": {
  "kernelspec": {
   "display_name": "base",
   "language": "python",
   "name": "python3"
  },
  "language_info": {
   "codemirror_mode": {
    "name": "ipython",
    "version": 3
   },
   "file_extension": ".py",
   "mimetype": "text/x-python",
   "name": "python",
   "nbconvert_exporter": "python",
   "pygments_lexer": "ipython3",
   "version": "3.8.8 (default, Apr 13 2021, 15:08:03) [MSC v.1916 64 bit (AMD64)]"
  },
  "orig_nbformat": 4,
  "vscode": {
   "interpreter": {
    "hash": "ea4503b6fe2de71960fc5d4cc5821a541f47d42965c620be2244e03ad767886f"
   }
  }
 },
 "nbformat": 4,
 "nbformat_minor": 2
}
