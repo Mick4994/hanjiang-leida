{
 "cells": [
  {
   "cell_type": "code",
   "execution_count": null,
   "metadata": {},
   "outputs": [
    {
     "ename": "ModuleNotFoundError",
     "evalue": "No module named 'open3d'",
     "output_type": "error",
     "traceback": [
      "\u001b[1;31m---------------------------------------------------------------------------\u001b[0m",
      "\u001b[1;31mModuleNotFoundError\u001b[0m                       Traceback (most recent call last)",
      "Cell \u001b[1;32mIn[1], line 1\u001b[0m\n\u001b[1;32m----> 1\u001b[0m \u001b[39mimport\u001b[39;00m \u001b[39mopen3d\u001b[39;00m \u001b[39mas\u001b[39;00m \u001b[39mO3d\u001b[39;00m\n",
      "\u001b[1;31mModuleNotFoundError\u001b[0m: No module named 'open3d'"
     ]
    }
   ],
   "source": [
    "import open3d as O3d"
   ]
  },
  {
   "cell_type": "markdown",
   "metadata": {},
   "source": [
    "加载并显示面obj模型"
   ]
  },
  {
   "cell_type": "code",
   "execution_count": 16,
   "metadata": {},
   "outputs": [
    {
     "name": "stdout",
     "output_type": "stream",
     "text": [
      "0 for simple mesh, 1 for complex mesh\n",
      "loading\n",
      "[Open3D WARNING] Unable to load file ../3D-models/rm2020_simple.obj with ASSIMP\n"
     ]
    }
   ],
   "source": [
    "def o3dmesh(path=''):\n",
    "    simple_mesh_path = '../3D-models/rm2020_simple.obj'\n",
    "    complex_mesh_path = '../3D-models/rm2022.obj'\n",
    "    if path != simple_mesh_path and path != complex_mesh_path:\n",
    "        print('invaild path')\n",
    "    else:\n",
    "        print('loading')\n",
    "        mesh = O3d.io.read_triangle_mesh(path)\n",
    "        mesh.compute_vertex_normals()\n",
    "        O3d.visualization.RenderOption.show_coordinate_frame = True\n",
    "        O3d.visualization.draw_geometries([mesh], window_name=\"mesh\",width=1280,height=720)\n",
    "\n",
    "def show3d():\n",
    "    print('0 for simple mesh, 1 for complex mesh')\n",
    "    mode = input()\n",
    "    if mode == '0':\n",
    "        o3dmesh('../3D-models/rm2020_simple.obj')\n",
    "    elif mode == '1':\n",
    "        o3dmesh('../3D-models/rm2022.obj')\n",
    "    else:\n",
    "        print('invaild input')\n",
    "\n",
    "show3d()"
   ]
  },
  {
   "cell_type": "code",
   "execution_count": 17,
   "metadata": {},
   "outputs": [
    {
     "name": "stdout",
     "output_type": "stream",
     "text": [
      "[Open3D WARNING] Read PCD failed: unable to open file: ../3D-models/rm2022.pcd\n"
     ]
    }
   ],
   "source": [
    "def o3dpcd():\n",
    "    simple_pcd_path = '../3D-models/rm2020_simple.pcd'\n",
    "    complex_pcd_path = '../3D-models/rm2022.pcd'\n",
    "    o3d = O3d\n",
    "    pcd = o3d.io.read_point_cloud(complex_pcd_path)\n",
    "    o3d.visualization.draw_geometries([pcd], window_name=\"Open3D\",width=1280,height=720)\n",
    "o3dpcd()"
   ]
  },
  {
   "cell_type": "code",
   "execution_count": null,
   "metadata": {},
   "outputs": [],
   "source": [
    "def o3dpcd():\n",
    "    complex_pcd_path = '../3D-models/terra_pcd/cloudAB.pcd'\n",
    "    o3d = O3d\n",
    "    pcd = o3d.io.read_point_cloud(complex_pcd_path)\n",
    "    print(pcd.points)\n",
    "    o3d.visualization.draw_geometries([pcd], window_name=\"Open3D\",width=1280,height=720)\n",
    "o3dpcd()"
   ]
  },
  {
   "cell_type": "code",
   "execution_count": 2,
   "metadata": {},
   "outputs": [],
   "source": [
    "import cv2\n",
    "import numpy as np"
   ]
  },
  {
   "cell_type": "code",
   "execution_count": 4,
   "metadata": {},
   "outputs": [
    {
     "data": {
      "text/plain": [
       "(array([[1., 0., 0.],\n",
       "        [0., 1., 0.],\n",
       "        [0., 0., 1.]]),\n",
       " array([[ 0.,  0.,  0.,  0.,  0., -1.,  0.,  1.,  0.],\n",
       "        [ 0.,  0.,  1.,  0.,  0.,  0., -1.,  0.,  0.],\n",
       "        [ 0., -1.,  0.,  1.,  0.,  0.,  0.,  0.,  0.]]))"
      ]
     },
     "execution_count": 4,
     "metadata": {},
     "output_type": "execute_result"
    }
   ],
   "source": [
    "cv2.Rodrigues(np.array([0, 0, 0], dtype=np.float64))"
   ]
  },
  {
   "cell_type": "code",
   "execution_count": 5,
   "metadata": {},
   "outputs": [
    {
     "name": "stdout",
     "output_type": "stream",
     "text": [
      "[0.2 0.4 0.8]\n",
      "[[ 0.62722765 -0.65533377  0.42085997]\n",
      " [ 0.72988824  0.6831435  -0.02404381]\n",
      " [-0.27175103  0.32226169  0.90680691]]\n",
      "[0.32226169 0.42085997 0.72988824]\n",
      "[[ 0.6684942  -0.57151382  0.47590699]\n",
      " [ 0.69818994  0.70271165 -0.13684712]\n",
      " [-0.25621536  0.42375498  0.86878387]]\n",
      "[[0.2]\n",
      " [0.4]\n",
      " [0.8]]\n",
      "(array([[-0.03625267,  0.978366  , -0.2036804 ],\n",
      "       [ 0.99830522,  0.02617032, -0.05197887],\n",
      "       [-0.04552397, -0.20521958, -0.97765663]]), array([[-0.43407701, -0.12092655, -0.50360256,  0.00785182,  0.50390595,\n",
      "         0.40450851,  0.51785821, -0.51224665,  0.08341178],\n",
      "       [ 0.49308319, -0.09508635, -0.54450423,  0.03782301, -0.42101426,\n",
      "         0.51445585,  0.4367661 , -0.50700492,  0.08608749],\n",
      "       [-0.06216435, -0.08196957, -0.38267115, -0.02576857, -0.06556671,\n",
      "        -0.52792225, -0.51558052, -0.39914388,  0.10779185]]))\n"
     ]
    }
   ],
   "source": [
    "# -*- coding: UTF-8 -*-\n",
    "import os\n",
    "import cv2\n",
    "import numpy as np\n",
    "T = np.zeros((1,3), np.float32)\n",
    "a = np.array((0.2,0.4,0.8), dtype=np.float64)\n",
    "print (a)\n",
    "R = cv2.Rodrigues(a)\n",
    "print (R[0])\n",
    "v3 = np.array((R[0][2,1],R[0][0,2],R[0][1,0]), dtype=np.float64)\n",
    "print (v3)\n",
    "c = cv2.Rodrigues(v3)\n",
    "print (c[0])\n",
    "b = cv2.Rodrigues(R[0])\n",
    "print (b[0])\n",
    "p = np.array((-2.100418,-2.167796,0.27330), dtype=np.float64)\n",
    "print(cv2.Rodrigues(p))"
   ]
  },
  {
   "cell_type": "code",
   "execution_count": 7,
   "metadata": {},
   "outputs": [
    {
     "data": {
      "text/plain": [
       "array([[ 0.62722765, -0.65533377,  0.42085997],\n",
       "       [ 0.72988824,  0.6831435 , -0.02404381],\n",
       "       [-0.27175103,  0.32226169,  0.90680691]])"
      ]
     },
     "execution_count": 7,
     "metadata": {},
     "output_type": "execute_result"
    }
   ],
   "source": [
    "R[0]"
   ]
  },
  {
   "cell_type": "code",
   "execution_count": 8,
   "metadata": {},
   "outputs": [
    {
     "data": {
      "text/plain": [
       "array([[ 0.8660254, -0.5      ,  0.       ,  0.       ],\n",
       "       [ 0.5      ,  0.8660254,  0.       ,  0.       ],\n",
       "       [ 0.       ,  0.       ,  1.       ,  0.       ],\n",
       "       [ 0.       ,  0.       ,  0.       ,  1.       ]])"
      ]
     },
     "execution_count": 8,
     "metadata": {},
     "output_type": "execute_result"
    }
   ],
   "source": [
    "def rodrigues_rotation(r, theta):\n",
    "    # n旋转轴[3x1]\n",
    "    # theta为旋转角度\n",
    "    # 旋转是过原点的，n是旋转轴\n",
    "    r = np.array(r).reshape(3, 1)\n",
    "    rx, ry, rz = r[:, 0]\n",
    "    M = np.array([\n",
    "        [0, -rz, ry],\n",
    "        [rz, 0, -rx],\n",
    "        [-ry, rx, 0]\n",
    "    ])\n",
    "    R = np.eye(4)\n",
    "    R[:3, :3] = np.cos(theta) * np.eye(3) +        \\\n",
    "                (1 - np.cos(theta)) * r @ r.T +    \\\n",
    "                np.sin(theta) * M\n",
    "    return R\n",
    "\n",
    "rodrigues_rotation([0, 0, 1], 30 / 180 * np.pi)\n"
   ]
  },
  {
   "cell_type": "code",
   "execution_count": 9,
   "metadata": {},
   "outputs": [],
   "source": [
    "import math"
   ]
  },
  {
   "cell_type": "code",
   "execution_count": 10,
   "metadata": {},
   "outputs": [
    {
     "data": {
      "text/plain": [
       "array([[ 0.8660254, -0.5      ,  0.       ,  0.       ],\n",
       "       [ 0.5      ,  0.8660254,  0.       ,  0.       ],\n",
       "       [ 0.       ,  0.       ,  1.       ,  0.       ],\n",
       "       [ 0.       ,  0.       ,  0.       ,  1.       ]])"
      ]
     },
     "execution_count": 10,
     "metadata": {},
     "output_type": "execute_result"
    }
   ],
   "source": [
    "rodrigues_rotation([0, 0, 1], math.radians(30))"
   ]
  },
  {
   "cell_type": "code",
   "execution_count": 12,
   "metadata": {},
   "outputs": [
    {
     "name": "stdout",
     "output_type": "stream",
     "text": [
      "x_len: 70  z_len: 130\n"
     ]
    }
   ],
   "source": [
    "import numpy as np\n",
    "import cv2\n",
    "from math import radians\n",
    "\n",
    "def CV2RM(points_3d):\n",
    "    x, y, z = points_3d\n",
    "    return [-z, -x, y]\n",
    "\n",
    "class Maper:\n",
    "    def __init__(self, camera_x = -4.8, camera_y = 3.8, camera_z = 1.2, r_x = 20) -> None:\n",
    "        # 相机外参\n",
    "        self.camera_pos = np.array([camera_x, camera_y, camera_z], dtype=np.float32)\n",
    "        self.camera_dir = np.array([radians(r_x), radians(0), radians(0)], dtype=np.float32)\n",
    "\n",
    "        # 焦距与传感器尺寸\n",
    "        self.focal_length = 6\n",
    "        self.sensor_size_x = 7.176 # 1/1.8 inch\n",
    "        self.sensor_size_y = 5.32\n",
    "\n",
    "        self.mapper = []\n",
    "\n",
    "    def get_points_map(self, image = np.zeros((1600, 1200, 3), dtype=np.uint8)):\n",
    "        # 场地点云\n",
    "        x = 0\n",
    "        z = 0\n",
    "        points_3d = []\n",
    "        x_len = int(13.879 // 0.2) + 1\n",
    "        z_len = int(25.879 // 0.2) + 1\n",
    "        print(\"x_len:\",x_len, \" z_len:\", z_len)\n",
    "        i = 0\n",
    "        j = 0\n",
    "        while x < 13.879:\n",
    "            j = 0\n",
    "            while z < 25.879:\n",
    "                points_3d.append([x, 0, z])\n",
    "                z += 0.2\n",
    "                j += 1\n",
    "            x += 0.2\n",
    "            z = 0\n",
    "            i += 1\n",
    "        # print(\"i:\",i, \"j:\", j)\n",
    "        # print(\"len(points_3d):\", len(points_3d))\n",
    "        self.reshape_points_3d = np.reshape(points_3d, (x_len, z_len, 3))\n",
    "        # print(\"reshape_points_3d.shape:\", self.reshape_points_3d.shape, \" points_3d.shape:\", np.array(points_3d).shape)\n",
    "\n",
    "        points_3d = np.array(points_3d, dtype=np.float32)\n",
    "        self.points_3d = points_3d.copy()\n",
    "\n",
    "        # 图像尺寸\n",
    "        image_width = image.shape[1]\n",
    "        image_height = image.shape[0]\n",
    "\n",
    "        fx = self.focal_length * image_width / self.sensor_size_x\n",
    "        fy = self.focal_length * image_height / self.sensor_size_y\n",
    "        cx = image_width / 2\n",
    "        cy = image_height / 2\n",
    "        # \n",
    "        K = np.array([[fx, 0, cx], [0, fy, cy], [0, 0, 1]], dtype=np.float32)\n",
    "\n",
    "        # 计算被旋转后的平移向量\n",
    "        R, _ = cv2.Rodrigues(self.camera_dir) \n",
    "        # R 叉乘 camera_pos\n",
    "        tvec = R @ self.camera_pos      \n",
    "        # rvec, _ = cv2.Rodrigues(R) \n",
    "\n",
    "        points_2d, _ = cv2.projectPoints(points_3d, self.camera_dir, tvec, K, None)\n",
    "        self.points_2d = np.array(points_2d, dtype=np.int32)\n",
    "        \n",
    "        self.reshape_points_2d = np.reshape(points_2d, (x_len * z_len, 2))\n",
    "        # print(\"points_2d.shape:\", points_2d.shape, \" reshape_points_2d.shape:\", self.reshape_points_2d.shape)\n",
    "        maper_points = list(zip(self.points_3d, self.reshape_points_2d))\n",
    "        self.maper_points = maper_points\n",
    "        return maper_points\n",
    "\n",
    "\n",
    "\n",
    "    def draw_points_2d(self, image = np.zeros((1600, 1200, 3))):\n",
    "        cv2.namedWindow(\"image\", cv2.WINDOW_NORMAL)\n",
    "        for p in self.points_2d:\n",
    "            p = np.array(p[0], dtype=np.int32)\n",
    "            cv2.circle(image, p, 5, (0, 255, 0), -1) \n",
    "\n",
    "        cv2.imshow(\"image\", image)\n",
    "        if ord('b') == cv2.waitKey(1):\n",
    "            cv2.destroyAllWindows()\n",
    "            exit(0)\n",
    "\n",
    "    def demo_display(self, image = np.zeros((1600, 1200, 3))):\n",
    "        cv2.namedWindow(\"image\", cv2.WINDOW_NORMAL)\n",
    "        for p in self.points_2d:\n",
    "            p = np.array(p[0], dtype=np.int32)\n",
    "            cv2.circle(image, p, 5, (0, 255, 0), -1) \n",
    "\n",
    "        cv2.imshow(\"image\", image)\n",
    "        cv2.waitKey(0)\n",
    "        cv2.destroyAllWindows()\n",
    "\n",
    "    def demo_display_slow(self, image = np.zeros((1600, 1200, 3))):\n",
    "        cv2.namedWindow(\"image\", cv2.WINDOW_NORMAL)\n",
    "        for x in self.reshape_points_2d:\n",
    "            for p in x:\n",
    "                p = np.array(p[0], dtype=np.int32)\n",
    "                cv2.circle(image, p, 5, (0, 255, 0), -1) \n",
    "                \n",
    "                cv2.imshow(\"image\", image)\n",
    "                if ord('b') == cv2.waitKey(1):\n",
    "                    cv2.destroyAllWindows()\n",
    "                    exit(0)\n",
    "            break\n",
    "\n",
    "if __name__ == \"__main__\":\n",
    "    maper = Maper()\n",
    "    maper.get_points_map()\n",
    "    reshape_points_2d = maper.reshape_points_2d\n",
    "    maper.demo_display()\n",
    "    # maper.demo_display_slow()"
   ]
  },
  {
   "attachments": {},
   "cell_type": "markdown",
   "metadata": {},
   "source": [
    "找X"
   ]
  },
  {
   "cell_type": "code",
   "execution_count": 2,
   "metadata": {},
   "outputs": [
    {
     "name": "stdout",
     "output_type": "stream",
     "text": [
      "[-1384, -1301, -1218, -1136, -1053, -970, -888, -805, -722, -640, -557, -474, -392, -309, -226, -144, -61, 21, 103, 186, 269, 351, 434, 517, 600, 682, 765, 848, 930, 1013, 1096, 1178, 1261, 1344, 1426, 1509, 1592, 1674, 1757, 1840, 1922, 2005, 2088, 2170, 2253, 2336, 2418, 2501, 2584, 2666, 2749, 2832, 2914, 2997, 3080, 3162, 3245, 3328, 3410, 3493, 3576, 3658, 3741, 3824, 3906, 3989, 4072, 4154, 4237, 4320]\n"
     ]
    }
   ],
   "source": [
    "x = [i[0][0][0] for i in np.array(reshape_points_2d, dtype=np.int32)]\n",
    "print(x) "
   ]
  },
  {
   "attachments": {},
   "cell_type": "markdown",
   "metadata": {},
   "source": [
    "找Y"
   ]
  },
  {
   "cell_type": "code",
   "execution_count": 13,
   "metadata": {},
   "outputs": [],
   "source": [
    "y = [i[0][1] for i in np.array(reshape_points_2d, dtype=np.int32)[0]]\n",
    "# print(\"len(y)\", len(y))"
   ]
  },
  {
   "cell_type": "code",
   "execution_count": 15,
   "metadata": {},
   "outputs": [
    {
     "ename": "",
     "evalue": "",
     "output_type": "error",
     "traceback": [
      "\u001b[1;31mThe Kernel crashed while executing code in the the current cell or a previous cell. Please review the code in the cell(s) to identify a possible cause of the failure. Click <a href='https://aka.ms/vscodeJupyterKernelCrash'>here</a> for more info. View Jupyter <a href='command:jupyter.viewOutput'>log</a> for further details."
     ]
    }
   ],
   "source": [
    "points_2d = np.reshape(maper.points_2d, (len(maper.points_2d), 2))"
   ]
  },
  {
   "cell_type": "code",
   "execution_count": 8,
   "metadata": {},
   "outputs": [],
   "source": [
    "points_3d = maper.points_3d"
   ]
  },
  {
   "cell_type": "code",
   "execution_count": 13,
   "metadata": {},
   "outputs": [],
   "source": [
    "maper_points = maper.maper_points"
   ]
  },
  {
   "cell_type": "code",
   "execution_count": null,
   "metadata": {},
   "outputs": [],
   "source": []
  }
 ],
 "metadata": {
  "kernelspec": {
   "display_name": "base",
   "language": "python",
   "name": "python3"
  },
  "language_info": {
   "codemirror_mode": {
    "name": "ipython",
    "version": 3
   },
   "file_extension": ".py",
   "mimetype": "text/x-python",
   "name": "python",
   "nbconvert_exporter": "python",
   "pygments_lexer": "ipython3",
   "version": "3.8.8"
  },
  "orig_nbformat": 4,
  "vscode": {
   "interpreter": {
    "hash": "ea4503b6fe2de71960fc5d4cc5821a541f47d42965c620be2244e03ad767886f"
   }
  }
 },
 "nbformat": 4,
 "nbformat_minor": 2
}
